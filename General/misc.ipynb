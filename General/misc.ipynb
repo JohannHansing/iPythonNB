{
 "cells": [
  {
   "cell_type": "code",
   "execution_count": null,
   "metadata": {
    "collapsed": true
   },
   "outputs": [],
   "source": [
    "def plotdataArr(dataArray,xlabel,lineArr,lineParam='',title='',linestyles='',setlog='',legendloc=0,tofile=False,filename='test',xlim=None):\n",
    "    # color stuff: http://stackoverflow.com/questions/4971269/how-to-pick-a-new-color-for-each-plotted-line-within-a-figure-in-matplotlib\n",
    "    pltPrintPar()\n",
    "    colors=cm.rainbow(np.linspace(0,1,len(dataArray)))\n",
    "    if linestyles=='': lslist = len(dataArray) * ['o-']\n",
    "    else: lslist = linestyles\n",
    "    #plt.figure(figsize=(7,5))\n",
    "    for i, line in enumerate(dataArray):\n",
    "        ti = lineParam + str(lineArr[i])\n",
    "        xs = line[:,0]\n",
    "        dd0s = line[:,1]/6.\n",
    "        plt.plot(xs,dd0s,lslist[i],label=ti,c=colors[i])\n",
    "    plt.xlabel(r'$'+xlabel+'$')\n",
    "    plt.ylabel(r'$D/D_0$')\n",
    "    plt.ylim([0,1.15])\n",
    "    plt.xlim(xlim)\n",
    "    plt.title(title)\n",
    "    #plt.legend(loc=legendloc, bbox_to_anchor=(0.5, 1.2), ncol=3)\n",
    "    plt.legend(loc=legendloc,fontsize = 'medium')\n",
    "    if setlog=='y' or setlog==\"double\":\n",
    "        plt.yscale('log')\n",
    "    if setlog=='x' or setlog==\"double\":\n",
    "        plt.xscale('log')\n",
    "    if tofile==True:\n",
    "        pp = PdfPages('figures/'+filename+'.pdf')\n",
    "        pp.savefig()\n",
    "        pp.close()\n",
    "    else:\n",
    "        plt.show()"
   ]
  }
 ],
 "metadata": {
  "hide_input": true,
  "kernelspec": {
   "display_name": "Python 3",
   "language": "python",
   "name": "python3"
  },
  "language_info": {
   "codemirror_mode": {
    "name": "ipython",
    "version": 3
   },
   "file_extension": ".py",
   "mimetype": "text/x-python",
   "name": "python",
   "nbconvert_exporter": "python",
   "pygments_lexer": "ipython3",
   "version": "3.5.0"
  },
  "latex_envs": {
   "bibliofile": "biblio.bib",
   "cite_by": "apalike",
   "current_citInitial": 1,
   "eqLabelWithNumbers": true,
   "eqNumInitial": 0
  }
 },
 "nbformat": 4,
 "nbformat_minor": 0
}
