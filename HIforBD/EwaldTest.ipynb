{
 "cells": [
  {
   "cell_type": "code",
   "execution_count": 2,
   "metadata": {
    "collapsed": true
   },
   "outputs": [],
   "source": [
    "import os\n",
    "import numpy as np\n",
    "import matplotlib.pyplot as plt\n",
    "from matplotlib.pyplot import cm # color stuff\n",
    "from scipy.optimize import curve_fit\n",
    "%matplotlib inline\n",
    "\n",
    "# def pltDefaultPar():\n",
    "#     #reset default matplotlib parameters for this notebook\n",
    "#     plt.rcParams.update({'font.size': 20})\n",
    "#     plt.rcParams['lines.linewidth'] = 1\n",
    "#     plt.rcParams['lines.markersize'] = 6\n",
    "    \n",
    "def pltPrintPar():\n",
    "    plt.rcParams.update({'font.size': 11})\n",
    "    plt.rcParams['lines.linewidth'] = 1\n",
    "    plt.rcParams['lines.markersize'] = 6\n",
    "\n",
    "rootTP=\"/home/johann/Remote/imac\"\n",
    "rootTP2=\"/home/johann/Remote2\"\n",
    "rootMAC=\"/Users/jh\"\n",
    "root=rootTP2"
   ]
  },
  {
   "cell_type": "code",
   "execution_count": 7,
   "metadata": {
    "collapsed": false
   },
   "outputs": [
    {
     "name": "stdout",
     "output_type": "stream",
     "text": [
      "Error: File not found!\n",
      "/home/johann/Remote2/Documents/workspace-cpp/SPS/Release/sim_data/noreset/fitRPinv/test/EwaldTest1/n3/noLub/steric/dt0.001/t200/a0.5/d0/b10/p9/k1.000/u0/InstantValues/linear_fit_parametersMSD.txt\n",
      "Error: File not found!\n",
      "/home/johann/Remote2/Documents/workspace-cpp/SPS/Release/sim_data/noreset/fitRPinv/test/EwaldTest1/n5/noLub/steric/dt0.001/t200/a0.5/d0/b10/p5/k1.000/u0/InstantValues/linear_fit_parametersMSD.txt\n",
      "Error: File not found!\n",
      "/home/johann/Remote2/Documents/workspace-cpp/SPS/Release/sim_data/noreset/fitRPinv/test/EwaldTest1/n5/noLub/steric/dt0.001/t200/a0.5/d0/b10/p9/k1.000/u0/InstantValues/linear_fit_parametersMSD.txt\n",
      "Error: File not found!\n",
      "/home/johann/Remote2/Documents/workspace-cpp/SPS/Release/sim_data/noreset/fitRPinv/test/EwaldTest1/n7/noLub/steric/dt0.001/t200/a0.5/d0/b10/p5/k1.000/u0/InstantValues/linear_fit_parametersMSD.txt\n",
      "Error: File not found!\n",
      "/home/johann/Remote2/Documents/workspace-cpp/SPS/Release/sim_data/noreset/fitRPinv/test/EwaldTest1/n7/noLub/steric/dt0.001/t200/a0.5/d0/b10/p9/k1.000/u0/InstantValues/linear_fit_parametersMSD.txt\n"
     ]
    }
   ],
   "source": [
    "# get EwaldTest data for different n with noLub\n",
    "ns=[1,3,5,7]\n",
    "datans=[]\n",
    "a=0.5\n",
    "astr=str(a).rstrip('0').rstrip(\".\")\n",
    "adir=\"a\"+astr\n",
    "ps=[1,5,9]\n",
    "for n in ns:\n",
    "    folder=root+\"/Documents/workspace-cpp/SPS/Release/sim_data/noreset/fitRPinv/test/EwaldTest1/\"\n",
    "    data=[]\n",
    "    if n==1: \n",
    "        folder+=\"noLub/steric/dt0.001/t200/\"\n",
    "    else: \n",
    "        folder+=\"n\"+str(n)+\"/noLub/steric/dt0.001/t200/\"\n",
    "    for p in ps:\n",
    "        pstr='%s' % float('%g' % p)\n",
    "        pstr=pstr.rstrip('0').rstrip(\".\")\n",
    "        a=(float(a)/10.)                 # make p value p/b\n",
    "        p=p/10.\n",
    "        file=os.path.join(folder, adir,'d0/b10/p'+pstr+'/k1.000/u0/InstantValues/linear_fit_parametersMSD.txt')\n",
    "        #print(file)\n",
    "        if os.path.isfile(file):\n",
    "            #print(file)\n",
    "            with open(file, 'r') as fitf:\n",
    "                m = (fitf.readline().split('m')[1]).split()[0]\n",
    "            data.append([float(p),float(m)]) #the [:-1] serves to cut the linebreak '\\n' from the string m.\n",
    "        else: print(\"Error: File not found!\\n\"+str(file))\n",
    "    datans.append((np.array(sorted(data))))"
   ]
  },
  {
   "cell_type": "code",
   "execution_count": null,
   "metadata": {
    "collapsed": true
   },
   "outputs": [],
   "source": []
  }
 ],
 "metadata": {
  "kernelspec": {
   "display_name": "Python 3",
   "language": "python",
   "name": "python3"
  },
  "language_info": {
   "codemirror_mode": {
    "name": "ipython",
    "version": 3
   },
   "file_extension": ".py",
   "mimetype": "text/x-python",
   "name": "python",
   "nbconvert_exporter": "python",
   "pygments_lexer": "ipython3",
   "version": "3.5.1"
  }
 },
 "nbformat": 4,
 "nbformat_minor": 0
}
