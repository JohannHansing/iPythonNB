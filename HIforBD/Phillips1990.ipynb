{
 "cells": [
  {
   "cell_type": "code",
   "execution_count": 26,
   "metadata": {
    "collapsed": true
   },
   "outputs": [],
   "source": [
    "import os\n",
    "import numpy as np\n",
    "import matplotlib.pyplot as plt\n",
    "%matplotlib inline\n",
    "# def pltDefaultPar():\n",
    "#     #reset default matplotlib parameters for this notebook\n",
    "#     plt.rcParams.update({'font.size': 20})\n",
    "#     plt.rcParams['lines.linewidth'] = 1\n",
    "#     plt.rcParams['lines.markersize'] = 6\n",
    "    \n",
    "def pltPrintPar():\n",
    "    plt.rcParams.update({'font.size': 11})\n",
    "    plt.rcParams['lines.linewidth'] = 1\n",
    "    plt.rcParams['lines.markersize'] = 6\n",
    "\n",
    "rootTP=\"/home/johann/Remote/imac\"\n",
    "rootMAC=\"/Users/jh\"\n",
    "root=rootMAC\n"
   ]
  },
  {
   "cell_type": "markdown",
   "metadata": {},
   "source": [
    "# Compare to Phillips1990\n",
    "Here I will compare simulations to data by Phillips1990 in a similar, square lattice, like him"
   ]
  },
  {
   "cell_type": "code",
   "execution_count": 46,
   "metadata": {
    "collapsed": true
   },
   "outputs": [],
   "source": [
    "# Eq. 25 in Phillips1989: d is the touching distance of the spheres along a fiber and b the spacing of the fibers\n",
    "def phi(a,d,b):\n",
    "    return 4./3*np.pi*(a/2.)**3 / ((a+d)*b**2)\n"
   ]
  },
  {
   "cell_type": "code",
   "execution_count": null,
   "metadata": {
    "collapsed": true
   },
   "outputs": [],
   "source": []
  },
  {
   "cell_type": "code",
   "execution_count": 21,
   "metadata": {
    "collapsed": false
   },
   "outputs": [
    {
     "data": {
      "text/plain": [
       "5.9880239520958085"
      ]
     },
     "execution_count": 21,
     "metadata": {},
     "output_type": "execute_result"
    }
   ],
   "source": [
    "b=10.5\n",
    "a=1.67\n",
    "b/(a*1.05)"
   ]
  },
  {
   "cell_type": "code",
   "execution_count": 17,
   "metadata": {
    "collapsed": false
   },
   "outputs": [
    {
     "data": {
      "text/plain": [
       "0.0775781043029316"
      ]
     },
     "execution_count": 17,
     "metadata": {},
     "output_type": "execute_result"
    }
   ],
   "source": [
    "a=3.3\n",
    "ra=a/2\n",
    "b=10.5\n",
    "np.pi*ra**2/b**2"
   ]
  },
  {
   "cell_type": "code",
   "execution_count": 53,
   "metadata": {
    "collapsed": true
   },
   "outputs": [],
   "source": [
    "def dd0phillips1990(phi,aop):\n",
    "    lam=1./aop\n",
    "    alpha=5.177-4.01*lam+5.44*lam**2-0.61*lam**3\n",
    "    return np.exp(-alpha*phi**(3./4))"
   ]
  },
  {
   "cell_type": "code",
   "execution_count": 111,
   "metadata": {
    "collapsed": true
   },
   "outputs": [],
   "source": [
    "def getDop_aop(aop,n=1,trigger='',system='',oldLub=False,dt='0.001',b0=10.5):\n",
    "    initfolder=root+\"/Documents/workspace-cpp/SPS/Release/sim_data/noreset/fitRPinv/\"+system\n",
    "    if oldLub==True:\n",
    "        initfolder=root+\"/Documents/workspace-cpp/SPS/Release/sim_data/noreset_oldLubBadg/fitRPinv/\"+system\n",
    "    b=b0*n\n",
    "    bstr=str(b).rstrip('0').rstrip(\".\")\n",
    "    folder=initfolder\n",
    "    data=[]\n",
    "    if n==1: \n",
    "        folder+=\"/\"+trigger\n",
    "    else: \n",
    "        if system=='':\n",
    "            folder+=\"/test\"\n",
    "        folder+=\"/n\"+str(n)+\"/\"+trigger\n",
    "    folder+=\"/dt\"+dt+\"/t200/\"\n",
    "    #print(folder)\n",
    "    for adir in os.listdir(folder): \n",
    "        if \"DS\" in adir: continue\n",
    "        a=float(adir[1:])\n",
    "        p=a/aop\n",
    "        pstr='%s' % float('%g' % p)\n",
    "        pstr=pstr.rstrip('0').rstrip(\".\")\n",
    "        pdir='p'+pstr\n",
    "        arel=(float(a)/b0)                 # make p value p/b\n",
    "        prel=p/b0\n",
    "        file=os.path.join(folder,adir,'d0/b'+bstr,pdir,'k1.000/u0/InstantValues/linear_fit_parametersMSD.txt')\n",
    "        #print(file)\n",
    "        if os.path.isfile(file):\n",
    "            #print(file)\n",
    "            with open(file, 'r') as fitf:\n",
    "                m = (fitf.readline().split('m')[1]).split()[0]\n",
    "            data.append([float(prel),float(m)]) #the [:-1] serves to cut the linebreak '\\n' from the string m.\n",
    "        else: print(\"Error: File not found!\\n\"+str(file))\n",
    "    return np.array(sorted(data))"
   ]
  },
  {
   "cell_type": "code",
   "execution_count": 77,
   "metadata": {
    "collapsed": false
   },
   "outputs": [
    {
     "data": {
      "text/plain": [
       "[<matplotlib.lines.Line2D at 0x10b451f28>]"
      ]
     },
     "execution_count": 77,
     "metadata": {},
     "output_type": "execute_result"
    },
    {
     "data": {
      "image/png": "[encoded data removed]",
      "text/plain": [
       "<matplotlib.figure.Figure at 0x10b87f5c0>"
      ]
     },
     "metadata": {},
     "output_type": "display_data"
    }
   ],
   "source": [
    "aop=1\n",
    "pdata=getDop_aop(aop,system='test/2DLattice',dt=\"0.0005\",b0=10.5)\n",
    "phis=[phi(aop*p,0.05*aop*p,1) for p in pdata[:,0]]\n",
    "dd0s=[dd0/4. for dd0 in pdata[:,1]]\n",
    "xs=np.arange(0.001,0.05,0.001)\n",
    "plt.plot(phis,dd0s,'o')\n",
    "plt.plot(xs,dd0phillips1990(xs,aop))"
   ]
  },
  {
   "cell_type": "code",
   "execution_count": 118,
   "metadata": {
    "collapsed": false
   },
   "outputs": [
    {
     "name": "stdout",
     "output_type": "stream",
     "text": [
      "Error: File not found!\n",
      "/Users/jh/Documents/workspace-cpp/SPS/Release/sim_data/noreset/fitRPinv/test/2DLattice/n2//dt0.0005/t200/a1.66/d0/b21/p1.66/k1.000/u0/InstantValues/linear_fit_parametersMSD.txt\n",
      "Error: File not found!\n",
      "/Users/jh/Documents/workspace-cpp/SPS/Release/sim_data/noreset/fitRPinv/test/2DLattice/n2//dt0.0005/t200/a0.5/d0/b21/p1/k1.000/u0/InstantValues/linear_fit_parametersMSD.txt\n",
      "Error: File not found!\n",
      "/Users/jh/Documents/workspace-cpp/SPS/Release/sim_data/noreset/fitRPinv/test/2DLattice/n2//dt0.0005/t200/a1.66/d0/b21/p3.32/k1.000/u0/InstantValues/linear_fit_parametersMSD.txt\n",
      "Error: File not found!\n",
      "/Users/jh/Documents/workspace-cpp/SPS/Release/sim_data/noreset/fitRPinv/test/2DLattice/n2//dt0.0005/t200/a0.5/d0/b21/p0.25/k1.000/u0/InstantValues/linear_fit_parametersMSD.txt\n",
      "Error: File not found!\n",
      "/Users/jh/Documents/workspace-cpp/SPS/Release/sim_data/noreset/fitRPinv/test/2DLattice/n2//dt0.0005/t200/a1.66/d0/b21/p0.83/k1.000/u0/InstantValues/linear_fit_parametersMSD.txt\n",
      "Error: File not found!\n",
      "/Users/jh/Documents/workspace-cpp/SPS/Release/sim_data/noreset/fitRPinv/test/2DLattice/n2//dt0.0005/t200/a0.5/d0/b21/p2.5/k1.000/u0/InstantValues/linear_fit_parametersMSD.txt\n",
      "Error: File not found!\n",
      "/Users/jh/Documents/workspace-cpp/SPS/Release/sim_data/noreset/fitRPinv/test/2DLattice/n2//dt0.0005/t200/a1.11/d0/b21/p5.55/k1.000/u0/InstantValues/linear_fit_parametersMSD.txt\n",
      "Error: File not found!\n",
      "/Users/jh/Documents/workspace-cpp/SPS/Release/sim_data/noreset/fitRPinv/test/2DLattice/n2//dt0.0005/t200/a1.25/d0/b21/p6.25/k1.000/u0/InstantValues/linear_fit_parametersMSD.txt\n",
      "Error: File not found!\n",
      "/Users/jh/Documents/workspace-cpp/SPS/Release/sim_data/noreset/fitRPinv/test/2DLattice/n2//dt0.0005/t200/a1.67/d0/b21/p8.35/k1.000/u0/InstantValues/linear_fit_parametersMSD.txt\n",
      "Error: File not found!\n",
      "/Users/jh/Documents/workspace-cpp/SPS/Release/sim_data/noreset/fitRPinv/test/2DLattice/n2//dt0.0005/t200/a2/d0/b21/p10/k1.000/u0/InstantValues/linear_fit_parametersMSD.txt\n",
      "Error: File not found!\n",
      "/Users/jh/Documents/workspace-cpp/SPS/Release/sim_data/noreset/fitRPinv/test/2DLattice/n2//dt0.0005/t200/a2.5/d0/b21/p12.5/k1.000/u0/InstantValues/linear_fit_parametersMSD.txt\n",
      "Error: File not found!\n",
      "/Users/jh/Documents/workspace-cpp/SPS/Release/sim_data/noreset/fitRPinv/test/2DLattice/n2//dt0.0005/t200/a3.33/d0/b21/p16.65/k1.000/u0/InstantValues/linear_fit_parametersMSD.txt\n"
     ]
    },
    {
     "data": {
      "image/png": "[encoded data removed]",
      "text/plain": [
       "<matplotlib.figure.Figure at 0x10ba41940>"
      ]
     },
     "metadata": {},
     "output_type": "display_data"
    }
   ],
   "source": [
    "aop=1\n",
    "W=2\n",
    "b0=10.5\n",
    "pdata=getDop_aop(aop,system='test/2DLattice',dt=\"0.0005\",b0=b0,n=W)\n",
    "phis=[phi(aop*p,0.05*aop*p,1) for p in pdata[:,0]]\n",
    "dd0s=[dd0/4. for dd0 in pdata[:,1]]\n",
    "xs=np.arange(0.001,0.06,0.001)\n",
    "plt.plot(phis,dd0s,'o',label='aop=1')\n",
    "plt.plot(xs,dd0phillips1990(xs,aop))\n",
    "\n",
    "\n",
    "aop=1\n",
    "W=3\n",
    "b0=10.5\n",
    "pdata=getDop_aop(aop,system='test/2DLattice',dt=\"0.0005\",b0=b0,n=W)\n",
    "phis=[phi(aop*p,0.05*aop*p,1) for p in pdata[:,0]]\n",
    "dd0s=[dd0/4. for dd0 in pdata[:,1]]\n",
    "xs=np.arange(0.001,0.06,0.001)\n",
    "plt.plot(phis,dd0s,'o',label='aop=1 W='+str(W))\n",
    "plt.plot(xs,dd0phillips1990(xs,aop))\n",
    "\n",
    "\n",
    "aop=0.5\n",
    "W=2\n",
    "pdata=getDop_aop(aop,system='test/2DLattice',dt=\"0.0005\",b0=b0,n=W)\n",
    "phis=[phi(aop*p,0.05*aop*p,1) for p in pdata[:,0]]\n",
    "dd0s=[dd0/4. for dd0 in pdata[:,1]]\n",
    "plt.plot(phis,dd0s,'o',label='aop=0.5')\n",
    "plt.plot(xs,dd0phillips1990(xs,aop))\n",
    "plt.xlabel('phi')\n",
    "plt.ylabel('$D/D_0$')\n",
    "plt.ylim([0,1.0])\n",
    "plt.xlim([0,0.08])\n",
    "### aop=0.5 NoLub ###\n",
    "pdata=getDop_aop(aop,system='test/2DLattice',trigger='noLub/steric',dt=\"0.0005\",b0=b0,n=W)\n",
    "phis=[phi(aop*p,0.05*aop*p,1) for p in pdata[:,0]]\n",
    "dd0s=[dd0/4. for dd0 in pdata[:,1]]\n",
    "plt.plot(phis,dd0s,'*',label='noLub aop=0.5')\n",
    "plt.xlabel('phi')\n",
    "plt.ylabel('$D/D_0$')\n",
    "plt.ylim([0,1.0])\n",
    "plt.xlim([0,0.08])\n",
    "\n",
    "#### aop = 2 ####\n",
    "aop=2\n",
    "W=2\n",
    "pdata=getDop_aop(aop,system='test/2DLattice',dt=\"0.0005\",b0=b0,n=W)\n",
    "phis=[phi(aop*p,0.05*aop*p,1) for p in pdata[:,0]]\n",
    "dd0s=[dd0/4. for dd0 in pdata[:,1]]\n",
    "plt.plot(phis,dd0s,'o',label='aop=2')\n",
    "plt.plot(xs,dd0phillips1990(xs,aop))\n",
    "plt.xlabel('phi')\n",
    "plt.ylabel('$D/D_0$')\n",
    "plt.ylim([0,1.0])\n",
    "plt.xlim([0,0.08])\n",
    "\n",
    "### aop=2 NoLub ###\n",
    "aop=2\n",
    "W=2\n",
    "pdata=getDop_aop(aop,system='test/2DLattice',trigger='noLub/steric',dt=\"0.0005\",b0=b0,n=W)\n",
    "phis=[phi(aop*p,0.05*aop*p,1) for p in pdata[:,0]]\n",
    "dd0s=[dd0/4. for dd0 in pdata[:,1]]\n",
    "plt.plot(phis,dd0s,'*',label='noLub aop=2')\n",
    "plt.xlabel('phi')\n",
    "plt.ylabel('$D/D_0$')\n",
    "plt.ylim([0,1.0])\n",
    "plt.xlim([0,0.1])\n",
    "\n",
    "### aop=0.2 ###\n",
    "aop=0.2\n",
    "W=2\n",
    "pdata=getDop_aop(aop,system='test/2DLattice',dt=\"0.0005\",b0=b0,n=W)\n",
    "phis=[phi(aop*p,0.05*aop*p,1) for p in pdata[:,0]]\n",
    "dd0s=[dd0/4. for dd0 in pdata[:,1]]\n",
    "plt.plot(phis,dd0s,'o',label='aop=2')\n",
    "plt.plot(xs,dd0phillips1990(xs,aop))\n",
    "plt.xlabel('phi')\n",
    "plt.ylabel('$D/D_0$')\n",
    "plt.ylim([0,1.0])\n",
    "plt.xlim([0,0.08])\n",
    "\n",
    "plt.legend(loc=1)\n",
    "plt.show()"
   ]
  },
  {
   "cell_type": "markdown",
   "metadata": {},
   "source": [
    "# Conclusion:\n",
    "- aop=0.5 result looks fine, considering that Phillips used a larger system (W=3). The aop=1 case leads to too small diffusivities, even with a larger W=3 system. I am unsure about the aop=2 case. Phillips used a larger system but the offset should not be as great. Actually, a larger system should lead to higher diffusivities, not smaller, so the offset between my data and Phillips1990 would be even greater. Maybe there is a mistake in my numerics for aop!=1 after all\n",
    "- I'll need to check if aop=0.2 case looks good. If so, then I know that my HI work kind of for small aop and I can start simulations. If not... I dont know.\n",
    "\n",
    "\n",
    "- comparing aop=2 data with noLub, we see that lub does not have a strong effect, hence the error most likely *does not* lie in the computation of lub2p. I assume my Ewald summation of RP is wrong for aop!=1.\n",
    "- The possibility that my Ewald summation overestimates the diffusivity for aop>1 by a large margin could also explain the too large diffusivities for a=2 at small p/a in ExperimentalData.ipynb without lubrication.\n",
    "\n",
    "# TODO \n",
    "- plot W=2 aop = 0.2 and compare to lambda=5\n",
    "- plot W=3 aop = 1 with lub and check if data agrees"
   ]
  },
  {
   "cell_type": "markdown",
   "metadata": {},
   "source": [
    "### Below: Smaller cutoff\n",
    "A smaller cutoff for updating the Ewald-summed mobility matrix does not seem to make a difference"
   ]
  },
  {
   "cell_type": "code",
   "execution_count": 106,
   "metadata": {
    "collapsed": false
   },
   "outputs": [
    {
     "data": {
      "text/plain": [
       "(0, 0.08)"
      ]
     },
     "execution_count": 106,
     "metadata": {},
     "output_type": "execute_result"
    },
    {
     "data": {
      "image/png": "[encoded data removed]",
      "text/plain": [
       "<matplotlib.figure.Figure at 0x10b6221d0>"
      ]
     },
     "metadata": {},
     "output_type": "display_data"
    }
   ],
   "source": [
    "### W = 2   --  _cutoffMMsq = 0.02b ###\n",
    "aop=2\n",
    "W=2\n",
    "pdata=getDop_aop(aop,system='test/2DLattice/_cutoffMMsq002',dt=\"0.0005\",b0=b0,n=W)\n",
    "phis=[phi(aop*p,0.05*aop*p,1) for p in pdata[:,0]]\n",
    "dd0s=[dd0/4. for dd0 in pdata[:,1]]\n",
    "plt.plot(phis,dd0s,'o',label='W=2 aop=2')\n",
    "plt.plot(xs,dd0phillips1990(xs,aop))\n",
    "plt.xlabel('phi')\n",
    "plt.ylabel('$D/D_0$')\n",
    "plt.ylim([0,1.0])\n",
    "plt.xlim([0,0.08])"
   ]
  },
  {
   "cell_type": "code",
   "execution_count": null,
   "metadata": {
    "collapsed": true
   },
   "outputs": [],
   "source": []
  }
 ],
 "metadata": {
  "hide_input": true,
  "kernelspec": {
   "display_name": "Python 3",
   "language": "python",
   "name": "python3"
  },
  "language_info": {
   "codemirror_mode": {
    "name": "ipython",
    "version": 3
   },
   "file_extension": ".py",
   "mimetype": "text/x-python",
   "name": "python",
   "nbconvert_exporter": "python",
   "pygments_lexer": "ipython3",
   "version": "3.5.0"
  },
  "latex_envs": {
   "bibliofile": "biblio.bib",
   "cite_by": "apalike",
   "current_citInitial": 1,
   "eqLabelWithNumbers": true,
   "eqNumInitial": 0
  }
 },
 "nbformat": 4,
 "nbformat_minor": 0
}
