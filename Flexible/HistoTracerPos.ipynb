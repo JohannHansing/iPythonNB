{
 "cells": [
  {
   "cell_type": "code",
   "execution_count": 1,
   "metadata": {
    "collapsed": true
   },
   "outputs": [],
   "source": [
    "import os\n",
    "import numpy as np\n",
    "import matplotlib.pyplot as plt\n",
    "from matplotlib.pyplot import cm # color stuff\n",
    "%matplotlib inline\n",
    "\n",
    "rootTP=\"/home/johann/Remote/imac\"\n",
    "rootMAC=\"/Users/jh\"\n",
    "root=rootTP"
   ]
  },
  {
   "cell_type": "code",
   "execution_count": 62,
   "metadata": {
    "collapsed": false
   },
   "outputs": [],
   "source": [
    "def readTracerData(ks,ncells,p,a):\n",
    "    b=ncells * 10\n",
    "    tracerdata = []\n",
    "    posfile = rootTP + '/Documents/workspace-cpp/Flexible/Release/sim_data/n_edge1/n_cells'+str(ncell)\n",
    "    posfile += '/dt0.0002/t5111/kb0/ks'+str(ks)+'/a'+str(a)+'/b'+str(b)+'/p'+str(p)+'/Coordinates/single_traj.xyz'\n",
    "    nextline=False\n",
    "    with open(posfile, 'r') as f:\n",
    "        for line in f:\n",
    "            lines = line.split()\n",
    "            # if I want to check polySpheres[0] particle\n",
    "            #            if nextline==True:\n",
    "            #                tracerdata.append(lines[1:])\n",
    "            #            nextline=False\n",
    "            #            if lines[0]==\"O\":\n",
    "            #                nextline=True\n",
    "            if lines[0]==\"O\":\n",
    "                tracerdata.append(lines[1:])\n",
    "                \n",
    "    return  (np.asarray(tracerdata)).astype(float)"
   ]
  },
  {
   "cell_type": "code",
   "execution_count": 65,
   "metadata": {
    "collapsed": false
   },
   "outputs": [
    {
     "name": "stdout",
     "output_type": "stream",
     "text": [
      "[[ 5.     5.     5.   ]\n",
      " [ 5.209  4.62   5.084]\n",
      " [ 5.015  4.714  5.035]\n",
      " [ 4.557  4.526  5.095]]\n"
     ]
    },
    {
     "data": {
      "image/png": "[encoded data removed]",
      "text/plain": [
       "<matplotlib.figure.Figure at 0x7f080cbf0f60>"
      ]
     },
     "metadata": {},
     "output_type": "display_data"
    }
   ],
   "source": [
    "ncells=2\n",
    "ks=200\n",
    "p=12\n",
    "a=5\n",
    "trajks1ncells3 = readTracerData(ks,ncells,p,a)\n",
    "print(trajks1ncells3[0:4])\n",
    "xs = trajks1ncells3[:,0]\n",
    "ys =  trajks1ncells3[:,1]\n",
    "#ys =  trajks1ncells3[:,2]\n",
    "#zs =  trajks1ncells3[:,3]\n",
    "plt.hist(trajks1ncells3[:,:].flatten())\n",
    "plt.show()\n",
    "#plt.plot(xs,ys)\n",
    "#plt.show()\n",
    "#indices = np.where(xs == xs.max())"
   ]
  },
  {
   "cell_type": "code",
   "execution_count": 47,
   "metadata": {
    "collapsed": false
   },
   "outputs": [
    {
     "data": {
      "text/plain": [
       "array([[  9.737,   0.356,  13.026]])"
      ]
     },
     "execution_count": 47,
     "metadata": {},
     "output_type": "execute_result"
    }
   ],
   "source": [
    "trajks1ncells3[indices]"
   ]
  },
  {
   "cell_type": "code",
   "execution_count": null,
   "metadata": {
    "collapsed": true
   },
   "outputs": [],
   "source": []
  }
 ],
 "metadata": {
  "kernelspec": {
   "display_name": "Python 3",
   "language": "python",
   "name": "python3"
  },
  "language_info": {
   "codemirror_mode": {
    "name": "ipython",
    "version": 3
   },
   "file_extension": ".py",
   "mimetype": "text/x-python",
   "name": "python",
   "nbconvert_exporter": "python",
   "pygments_lexer": "ipython3",
   "version": "3.5.1"
  }
 },
 "nbformat": 4,
 "nbformat_minor": 0
}
