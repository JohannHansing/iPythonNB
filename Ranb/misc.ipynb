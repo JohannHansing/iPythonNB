{
 "cells": [
  {
   "cell_type": "code",
   "execution_count": 3,
   "metadata": {
    "collapsed": true
   },
   "outputs": [],
   "source": [
    "import os\n",
    "import numpy as np\n",
    "import matplotlib.pyplot as plt\n",
    "from matplotlib.pyplot import cm # color stuff\n",
    "from scipy.optimize import curve_fit\n",
    "from random import gauss\n",
    "%matplotlib inline"
   ]
  },
  {
   "cell_type": "code",
   "execution_count": 26,
   "metadata": {
    "collapsed": false
   },
   "outputs": [
    {
     "name": "stdout",
     "output_type": "stream",
     "text": [
      "( 1.873 , -2.374 ) circle(\\ra)\n",
      "( -1.843 , 12.725 ) circle(\\ra)\n",
      "( 1.502 , 20.857 ) circle(\\ra)\n",
      "( -0.788 , 30.070 ) circle(\\ra)\n",
      "( 10.633 , -0.869 ) circle(\\ra)\n",
      "( 7.772 , 9.697 ) circle(\\ra)\n",
      "( 8.526 , 21.811 ) circle(\\ra)\n",
      "( 11.340 , 32.237 ) circle(\\ra)\n",
      "( 18.227 , 0.322 ) circle(\\ra)\n",
      "( 21.641 , 4.923 ) circle(\\ra)\n",
      "( 21.075 , 17.032 ) circle(\\ra)\n",
      "( 17.309 , 25.470 ) circle(\\ra)\n",
      "( 31.643 , -1.267 ) circle(\\ra)\n",
      "( 30.399 , 8.233 ) circle(\\ra)\n",
      "( 32.488 , 20.062 ) circle(\\ra)\n",
      "( 32.385 , 30.529 ) circle(\\ra)\n"
     ]
    }
   ],
   "source": [
    "#generate random numbers for poitions in 2Dsketch.tex file\n",
    "#http://stackoverflow.com/questions/1566936/easy-pretty-printing-of-floats-in-python\n",
    "var=2\n",
    "W=3\n",
    "for nx in range(W+1):\n",
    "    for ny in range(W+1):\n",
    "        rx=nx*10\n",
    "        ry=ny*10\n",
    "        rvec=[rx+gauss(0,var),ry+gauss(0,var)]\n",
    "        print(\"(\",\"%.3f\" % rvec[0],',',\"%.3f\" % rvec[1],') circle(\\\\ra)')"
   ]
  },
  {
   "cell_type": "code",
   "execution_count": null,
   "metadata": {
    "collapsed": true
   },
   "outputs": [],
   "source": []
  },
  {
   "cell_type": "code",
   "execution_count": null,
   "metadata": {
    "collapsed": true
   },
   "outputs": [],
   "source": []
  }
 ],
 "metadata": {
  "kernelspec": {
   "display_name": "Python 3",
   "language": "python",
   "name": "python3"
  },
  "language_info": {
   "codemirror_mode": {
    "name": "ipython",
    "version": 3
   },
   "file_extension": ".py",
   "mimetype": "text/x-python",
   "name": "python",
   "nbconvert_exporter": "python",
   "pygments_lexer": "ipython3",
   "version": "3.5.1"
  }
 },
 "nbformat": 4,
 "nbformat_minor": 0
}
