{
 "cells": [
  {
   "cell_type": "code",
   "execution_count": 1,
   "metadata": {
    "collapsed": true
   },
   "outputs": [],
   "source": [
    "import os\n",
    "import numpy as np\n",
    "import matplotlib.pyplot as plt\n",
    "from matplotlib.pyplot import cm # color stuff\n",
    "from scipy.optimize import curve_fit\n",
    "from random import gauss\n",
    "%matplotlib inline"
   ]
  },
  {
   "cell_type": "code",
   "execution_count": 2,
   "metadata": {
    "collapsed": false
   },
   "outputs": [
    {
     "name": "stdout",
     "output_type": "stream",
     "text": [
      "( -1.346 , -1.672 ) circle(\\ra)\n",
      "( 0.419 , 13.018 ) circle(\\ra)\n",
      "( -3.816 , 23.116 ) circle(\\ra)\n",
      "( -2.323 , 30.945 ) circle(\\ra)\n",
      "( 10.806 , 1.934 ) circle(\\ra)\n",
      "( 8.854 , 7.849 ) circle(\\ra)\n",
      "( 8.669 , 18.634 ) circle(\\ra)\n",
      "( 7.689 , 32.413 ) circle(\\ra)\n",
      "( 20.996 , -2.841 ) circle(\\ra)\n",
      "( 19.790 , 6.314 ) circle(\\ra)\n",
      "( 17.803 , 21.923 ) circle(\\ra)\n",
      "( 19.718 , 31.280 ) circle(\\ra)\n",
      "( 31.149 , 1.194 ) circle(\\ra)\n",
      "( 32.206 , 11.151 ) circle(\\ra)\n",
      "( 30.091 , 19.886 ) circle(\\ra)\n",
      "( 28.285 , 29.960 ) circle(\\ra)\n"
     ]
    }
   ],
   "source": [
    "#generate random numbers for poitions in 2Dsketch.tex file\n",
    "#http://stackoverflow.com/questions/1566936/easy-pretty-printing-of-floats-in-python\n",
    "var=2\n",
    "W=3\n",
    "for nx in range(W+1):\n",
    "    for ny in range(W+1):\n",
    "        rx=nx*10\n",
    "        ry=ny*10\n",
    "        rvec=[rx+gauss(0,var),ry+gauss(0,var)]\n",
    "        print(\"(\",\"%.3f\" % rvec[0],',',\"%.3f\" % rvec[1],') circle(\\\\ra)')"
   ]
  },
  {
   "cell_type": "code",
   "execution_count": null,
   "metadata": {
    "collapsed": true
   },
   "outputs": [],
   "source": []
  },
  {
   "cell_type": "code",
   "execution_count": null,
   "metadata": {
    "collapsed": true
   },
   "outputs": [],
   "source": []
  }
 ],
 "metadata": {
  "hide_input": true,
  "kernelspec": {
   "display_name": "Python 3",
   "language": "python",
   "name": "python3"
  },
  "language_info": {
   "codemirror_mode": {
    "name": "ipython",
    "version": 3
   },
   "file_extension": ".py",
   "mimetype": "text/x-python",
   "name": "python",
   "nbconvert_exporter": "python",
   "pygments_lexer": "ipython3",
   "version": "3.5.0"
  },
  "latex_envs": {
   "bibliofile": "biblio.bib",
   "cite_by": "apalike",
   "current_citInitial": 1,
   "eqLabelWithNumbers": true,
   "eqNumInitial": 0
  }
 },
 "nbformat": 4,
 "nbformat_minor": 0
}
