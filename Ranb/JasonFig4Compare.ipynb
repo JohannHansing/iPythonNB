{
 "cells": [
  {
   "cell_type": "code",
   "execution_count": 4,
   "metadata": {
    "collapsed": true
   },
   "outputs": [],
   "source": [
    "import os\n",
    "import numpy as np\n",
    "import matplotlib.pyplot as plt\n",
    "from matplotlib.backends.backend_pdf import PdfPages\n",
    "from matplotlib.pyplot import cm # color stuff\n",
    "from scipy.optimize import curve_fit\n",
    "import itertools\n",
    "plotmarkers=['^-', 'o-', 's-', '*-', 'd-', 'v-', 'h-', '>-', 'D-', 'H-', '<-', 'o-', 's-', '3-']\n",
    "from scipy.optimize import curve_fit\n",
    "import csv\n",
    "%matplotlib inline\n",
    "\n",
    "\n",
    "figsizeRanb=(5, 3.5)#(6,4) is default size in inches\n",
    "plt.rcParams.update({'font.size': 11}) #default is 10\n",
    "\n",
    "from matplotlib.ticker import AutoMinorLocator  #Stuff for ticks\n",
    "minorLocator = AutoMinorLocator(2)\n",
    "\n",
    "    \n",
    "rootTP=\"/home/johann/Remote/imac\"\n",
    "rootTP2=\"/home/johann/Remote2\"\n",
    "rootMAC=\"/Users/jh\"\n",
    "root=rootMAC\n",
    "\n"
   ]
  },
  {
   "cell_type": "code",
   "execution_count": 5,
   "metadata": {
    "collapsed": true
   },
   "outputs": [],
   "source": [
    "# Function to plot D over phi vary lub noLub data with fixed aop\n",
    "Vcyl = lambda a, b: np.pi*b*(a/2.)**2\n",
    "def phiOverlap(aob): # Old formula for phi for overlapping cylinders\n",
    "    return (3*Vcyl(aob,b=1) - 8 * np.sqrt(2) * (aob/2.)**3)\n",
    "\n",
    "def phiNoOverlap(aob): \n",
    "    return 3*Vcyl(aob,b=1) # This is almost the same formula as for the old model, but without the overlap term\n",
    "\n",
    "def ptoPhiOverlap(aprel,aop,zeroa=False):\n",
    "    if zeroa:\n",
    "        prel=aprel/(1.+aop)\n",
    "    return phiOverlap(prel*aop)\n",
    "\n",
    "def ptoPhiNoOverlap(aprel,aop,zeroa=False):\n",
    "    if zeroa:\n",
    "        prel=aprel/(1.+aop)\n",
    "    return phiNoOverlap(prel*aop)\n",
    "\n",
    "def ptoPhiData(data,aop=0,zeroa=False,zerop=False):\n",
    "    prels=data[:,0]\n",
    "    if zeroa:\n",
    "        prels/=(1.+aop)\n",
    "    elif zerop:\n",
    "        aop=1\n",
    "    phis=phiOverlap(prels*aop)\n",
    "    data[:,0]=phis"
   ]
  },
  {
   "cell_type": "code",
   "execution_count": 6,
   "metadata": {
    "collapsed": true
   },
   "outputs": [],
   "source": [
    "def plottofile(filename):\n",
    "    pp = PdfPages('figures/'+filename+'.pdf')\n",
    "    pp.savefig(bbox_inches='tight')\n",
    "    pp.close()"
   ]
  },
  {
   "cell_type": "markdown",
   "metadata": {},
   "source": [
    "## Some Notes:\n",
    "#### The aim: Comparing Ranb D over phi data to fig.4 in our bpj paper.\n",
    "In Johansson1991 some quantities for dextran are given as: \n",
    "- the partial specific volume $\\nu_s=0.61$ mL/g\n",
    "- the dextran diameter $a=7.4$ Angstrom\n",
    "- the dextran mean residue length $l=3.9$ Angstrom\n",
    "\n",
    "Using the former two quantities, we can calculate the dextran volume fraction $\\phi$ from the weight volume percentage (g/mL x 100):\n",
    "$$\\phi = \\frac{(w/v)\\% \\times \\nu_s}{100} \\;=\\; (w/v)\\% \\times 0.0061$$\n",
    "\n",
    "According to Jason and our previous papers, Alexa has a diameter of 14 to 15 Angstrom. Hence we obtain an $a/p$ ratio of:\n",
    "- $a/p = 0.5$ *without* a water hydration layer and $(a+p)=(0.74+1.48)nm = 2.22nm$\n",
    "- $a/p = \\frac{7.4}{15+4} = 0.39$ *with* water hydration layer and $(a+p)=(0.74+1.88)nm = 2.62nm$"
   ]
  },
  {
   "cell_type": "code",
   "execution_count": 14,
   "metadata": {
    "collapsed": false
   },
   "outputs": [
    {
     "name": "stdout",
     "output_type": "stream",
     "text": [
      "Maximal phi for Jason Data:  0.0488\n"
     ]
    },
    {
     "data": {
      "image/png": "[encoded data removed]",
      "text/plain": [
       "<matplotlib.figure.Figure at 0x7fa9414e01d0>"
      ]
     },
     "metadata": {},
     "output_type": "display_data"
    },
    {
     "name": "stdout",
     "output_type": "stream",
     "text": [
      "For a/p= 0.5 , the maximal value of is (a+p) = 0.4537\n",
      "For a/p= 0.39 , the maximal value of is (a+p) = 0.539\n"
     ]
    }
   ],
   "source": [
    "print('Maximal phi for Jason Data: ',0.0061*8)\n",
    "\n",
    "aop=0.5\n",
    "aoph=0.39\n",
    "\n",
    "ptest=np.arange(0.01,0.7,0.0001)\n",
    "plt.plot(ptest,ptoPhiOverlap(ptest,aop,True),label='a/p='+str(aop))\n",
    "plt.plot(ptest,ptoPhiOverlap(ptest,aoph,True),label='a/p='+str(aoph))\n",
    "plt.axhline(0.049)\n",
    "plt.legend(loc=4)\n",
    "plt.xlabel(r'$\\theta/b$')\n",
    "plt.ylabel(r'$\\phi$')\n",
    "plt.xlim([0,0.7])\n",
    "plt.show()\n",
    "\n",
    "phiVals=ptoPhiOverlap(ptest,aop,True)\n",
    "xint_i= (np.abs(phiVals-0.049)).argmin(0)\n",
    "print(\"For a/p=\",aop,\", the maximal value of is (a+p) =\", ptest[xint_i])\n",
    "\n",
    "phiVals=ptoPhiOverlap(ptest,aoph,True)\n",
    "xint_i= (np.abs(phiVals-0.049)).argmin(0)\n",
    "print(\"For a/p=\",aoph,\", the maximal value of is (a+p) =\", ptest[xint_i])"
   ]
  },
  {
   "cell_type": "markdown",
   "metadata": {},
   "source": [
    "### Conclusion:\n",
    "We determined maximal $\\theta=(a+p)$ value for the polymer concentration interval interval of Jasons experiment for Alexa in charged Dextran (Fig.4 bpj). For $a/p=0.5$ *without* water hydration layer, and $a/p=0.75$ *with* water hydration layer:\n",
    "- $a/p=0.5$: about $\\theta/b=(a+p)/b=0.45b$\n",
    "- $a/p=0.39$: about $\\theta/b=(a+p)/b=0.54b$\n",
    "\n",
    "#### Calculate all $a/b$ values from the $\\phi$ values \n",
    "$$\\phi \\approx \\frac{3V_{cyl}}{V_{box}} = 3\\pi \\left(\\frac{a}{2b}\\right)^2$$\n",
    "$$\\rightarrow a/b = 2 \\sqrt{\\phi/(3\\pi)}$$"
   ]
  },
  {
   "cell_type": "code",
   "execution_count": 8,
   "metadata": {
    "collapsed": false
   },
   "outputs": [
    {
     "name": "stdout",
     "output_type": "stream",
     "text": [
      "a/b values:\n",
      "[ 0.051  0.088  0.114  0.135  0.153]\n"
     ]
    }
   ],
   "source": [
    "def floatPrint(data): \n",
    "    np.set_printoptions(precision=3)\n",
    "    print(data)\n",
    "    np.set_printoptions(precision=8)\n",
    "\n",
    "def aFromCdextran(Cdextran):\n",
    "    \"a/b is output. Needs Cdextran in g/L\"\n",
    "    phiDex = Cdextran*0.00061\n",
    "    arel = 2*np.sqrt(phiDex/(3*np.pi))\n",
    "    return arel\n",
    "\n",
    "def bnmFromCdextran(Cdextran,anm):\n",
    "    \"a/b is output. Needs Cdextran in g/L\"\n",
    "    phiDex = Cdextran*0.00061\n",
    "    bnm = anm/(2*np.sqrt(phiDex/(3*np.pi)))\n",
    "    return bnm\n",
    "\n",
    "Cvalues = np.arange(10,100,20)\n",
    "aValues = aFromCdextran(Cvalues)\n",
    "print(\"a/b values:\")\n",
    "floatPrint(aValues)\n"
   ]
  },
  {
   "cell_type": "markdown",
   "metadata": {},
   "source": [
    "## Next step: Calculate corresponding range $k/p$\n",
    "\n",
    "At 1 (w/v)% I have 6mM for dex- and 10 mM for dex+.\n",
    "Hence, I get \n",
    "\n",
    "Cion- = (buffer) + (dextran-) = 10mM + (w/v)% x 6mM\n",
    "\n",
    "Cion+ = (buffer) + (dextran+) = 10mM + (w/v)% x 10mM\n",
    "\n",
    "where g/mol = 10 x (w/v)%"
   ]
  },
  {
   "cell_type": "code",
   "execution_count": 29,
   "metadata": {
    "collapsed": false
   },
   "outputs": [
    {
     "name": "stdout",
     "output_type": "stream",
     "text": [
      "The absolute ranges k in nm:\n",
      " kAtt = [ 2.149  1.52   1.241  1.075  0.961] \n",
      "kRep = [ 2.403  1.817  1.52   1.333  1.202]\n",
      "\n",
      "The relative ranges k/p for a/p=0.5:\n",
      " kAtt/b = [ 0.148  0.181  0.191  0.196  0.198] \n",
      "kRep/b = [ 0.165  0.216  0.234  0.242  0.248]\n",
      "\n",
      "The relative ranges k/p for a/p=0.39 are of course the same, since they only depend on the dextran diamtere a_dex\n",
      "\n",
      "The relative ranges k/steric for a/p=0.5:\n",
      " kAtt/steric = [ 0.968  0.685  0.559  0.484  0.433] \n",
      "kRep/steric = [ 1.082  0.818  0.685  0.6    0.541]\n"
     ]
    }
   ],
   "source": [
    "def kFromCion(Cion):\n",
    "    \"This function returns the interaction range k in nanometers for a certain Ion concentration in mM\"\n",
    "    return np.sqrt(0.0924*10**3/Cion)\n",
    "\n",
    "def kFromCdextran(Cpoly):\n",
    "    \"This function returns the interaction range k in nanometers for a certain dextran Concentration in g/L\"\n",
    "    Cion_mM_Att = 10 + 10 * Cpoly/10.\n",
    "    Cion_mM_Rep = 10 + 6  * Cpoly/10.\n",
    "    kAtt = kFromCion(Cion_mM_Att)\n",
    "    kRep = kFromCion(Cion_mM_Rep)\n",
    "    return kAtt, kRep\n",
    "\n",
    "def koapFromCdextran(Cpoly,apsteric):\n",
    "    \"This function requires the dextran conc. in g/L and the steric interaction param. in nm to calc. k/(a+p)\"\n",
    "    kAtt, kRep = kFromCdextran(Cpoly)\n",
    "    return kAtt/apsteric, kRep/apsteric\n",
    "\n",
    "def krelbFromCdextran(Cpoly,anm):\n",
    "    \"This function requires the dextran conc. in g/L and the steric interaction param. in nm to calc. k/(a+p)\"\n",
    "    kAtt, kRep = kFromCdextran(Cpoly)\n",
    "    return kAtt/bnmFromCdextran(Cpoly,anm), kRep/bnmFromCdextran(Cpoly,anm)\n",
    "\n",
    "katt,krep=kFromCdextran(Cvalues)\n",
    "\n",
    "np.set_printoptions(precision=3)\n",
    "print(\"The absolute ranges k in nm:\\n\",\"kAtt =\",katt,\"\\nkRep =\",krep)\n",
    "kAttrel, kReprel = krelbFromCdextran(Cvalues,0.74)\n",
    "print(\"\\nThe relative ranges k/p for a/p=0.5:\\n\",\"kAtt/b =\",kAttrel,\"\\nkRep/b =\",kReprel)\n",
    "\n",
    "print(\"\\nThe relative ranges k/p for a/p=0.39 are of course the same, since they only depend on the dextran diamtere a_dex\")\n",
    "\n",
    "\n",
    "kAttop, kRepop = koapFromCdextran(Cvalues,2.22)\n",
    "print(\"\\nThe relative ranges k/steric for a/p=0.5:\\n\",\"kAtt/steric =\",kAttop,\"\\nkRep/steric =\",kRepop)\n",
    "np.set_printoptions(precision=8)\n"
   ]
  },
  {
   "cell_type": "markdown",
   "metadata": {},
   "source": [
    "#### Conclusion:\n",
    "- We find that the interaction range becomes smaller for increasing dextran concentration, since the ion concentration increases simultaneously.\n",
    "- NOTE: In principle I would need to also adapt the interaction strength $U_0$. The interaction strenght for touching spheres should be similar for varying ion concentration. Hence, when $k/p$ decreases, I should increase $U_0$.\n",
    "$$U_{01} e^{-\\theta/(2k_1)} = U_{02} e^{-\\theta/(2k_2)}$$\n",
    "$$U_{02} = U_{01} e^{-\\theta (1/(2k_1) - 1/(2k_2))}$$\n",
    "$$\\rightarrow U_{02} = U_{01} e^{-\\theta (k_2 - k_1)/(2k_2k_1)}$$"
   ]
  },
  {
   "cell_type": "code",
   "execution_count": 31,
   "metadata": {
    "collapsed": false
   },
   "outputs": [
    {
     "name": "stdout",
     "output_type": "stream",
     "text": [
      "[-5.         -6.19254133 -7.29714128 -8.3800732  -9.46656934]\n"
     ]
    }
   ],
   "source": [
    "def Unewk(Uk1,k1,k2,theta=1):\n",
    "    \"This function returns an adapted U_0 for changing interaction range k/p\"\n",
    "    Ufactor = np.exp(-theta*(k2-k1)/(2*k1*k2))\n",
    "    Unew = Uk1 * Ufactor\n",
    "    return Unew, Ufactor\n",
    "\n",
    "def UnewList(Uk1,koplist):\n",
    "    \"This function takes a list of k/theta as the argument\"\n",
    "    return np.append(np.array([Uk1]),Unewk(Uk1,koplist[0],koplist[1:])[0])\n",
    "\n",
    "#klist=kAttop\n",
    "#print([Unewk(-5,klist[0],k)[0] for k in klist[1:]])\n",
    "\n",
    "#Uk1=-5; k1op=1.5; k2op=0.46\n",
    "#Unewk(Uk1,k1op,k2op)\n",
    "\n",
    "print(UnewList(-5,kAttop))"
   ]
  },
  {
   "cell_type": "code",
   "execution_count": null,
   "metadata": {
    "collapsed": true
   },
   "outputs": [],
   "source": []
  }
 ],
 "metadata": {
  "hide_input": true,
  "kernelspec": {
   "display_name": "Python 3",
   "language": "python",
   "name": "python3"
  },
  "language_info": {
   "codemirror_mode": {
    "name": "ipython",
    "version": 3
   },
   "file_extension": ".py",
   "mimetype": "text/x-python",
   "name": "python",
   "nbconvert_exporter": "python",
   "pygments_lexer": "ipython3",
   "version": "3.5.2"
  },
  "latex_envs": {
   "bibliofile": "biblio.bib",
   "cite_by": "apalike",
   "current_citInitial": 1,
   "eqLabelWithNumbers": true,
   "eqNumInitial": 0
  }
 },
 "nbformat": 4,
 "nbformat_minor": 0
}
