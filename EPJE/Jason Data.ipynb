{
 "cells": [
  {
   "cell_type": "code",
   "execution_count": 5,
   "metadata": {
    "collapsed": true
   },
   "outputs": [],
   "source": [
    "import os\n",
    "import numpy as np\n",
    "import matplotlib.pyplot as plt\n",
    "from matplotlib.pyplot import cm # color stuff\n",
    "from scipy.optimize import curve_fit\n",
    "%matplotlib inline\n",
    "\n",
    "def pltDefaultPar():\n",
    "    #reset default matplotlib parameters for this notebook\n",
    "    plt.rcParams.update({'font.size': 20})\n",
    "    plt.rcParams['lines.linewidth'] = 1\n",
    "    plt.rcParams['lines.markersize'] = 6\n",
    "    \n",
    "def pltPrintPar():\n",
    "    plt.rcParams.update({'font.size': 15})\n",
    "    plt.rcParams['lines.linewidth'] = 2\n",
    "    plt.rcParams['lines.markersize'] = 8\n",
    "\n",
    "rootTP=\"/home/johann/Remote/imac\"\n",
    "rootMAC=\"/Users/jh\"\n",
    "root=rootTP"
   ]
  },
  {
   "cell_type": "markdown",
   "metadata": {},
   "source": [
    "Try different particle size. According to Jason, Alexa488 has a diameter of $1.48$ nanometers.\n",
    "According to source Johansson1991 water has a diameter of 0.38 and dextran a diameter of 0.389. Hence we get\n",
    "$$a/p = (.38+.389)/1.48 = 0.52$$\n",
    "\n",
    "If we want to conserve our approximate mesh size $b=23$nm, with $(p+a) = 2.25 nm$, we need to set\n",
    "$$p/b = 2.25 / 23= 0.098$$"
   ]
  },
  {
   "cell_type": "markdown",
   "metadata": {},
   "source": [
    "## NOTE:\n",
    "I should use $(a+p) = 2.25$ to calculate physical value of b. This way, I can use a/p = 0.33 data in \n",
    "/Users/jh/Documents/Remote_PC/sheldon_scratch/HI/sim/Release/sim_data/noreset/fitRPinv/test/CG/ntry1/nrods1/steric/dt0.001/t200/a0.33\n",
    "and\n",
    "/Users/jh/Documents/Remote_PC/sheldon_scratch/HI/sim/Release/sim_data/noreset/fitRPinv/test/CG/ntry1/nrods1/steric/dt0.0005/t200/a0.33\n",
    "\n",
    "\n",
    "## After Evalulation:\n",
    "I find that I can use a slightly smaller relative particle diameter $(a+p)/b = 0.94$, where I set $a = 0.33b$ and $p = 0.61b$. This leads to a mesh size of $b= 23.9$nm. **BUT THE D/Do IS STILL TOO LARGE**\n",
    "\n",
    "So, now I try $a = 0.31b$ and $p = 0.57b$. This leads to a mesh size of $b= 25.45$nm.\n",
    "\n",
    "#### In the HI paper \n",
    "I will just mention the physical units, i.e. I will say that $p=1.48$nm and $a=.38+.39 = 0.77$ nm and the mesh size $b=23.9$nm, i.e. slightly larger than in the EPJE and bpj papers."
   ]
  },
  {
   "cell_type": "code",
   "execution_count": null,
   "metadata": {
    "collapsed": true
   },
   "outputs": [],
   "source": []
  },
  {
   "cell_type": "code",
   "execution_count": null,
   "metadata": {
    "collapsed": true
   },
   "outputs": [],
   "source": []
  },
  {
   "cell_type": "code",
   "execution_count": 3,
   "metadata": {
    "collapsed": false
   },
   "outputs": [
    {
     "name": "stdout",
     "output_type": "stream",
     "text": [
      "0.12456\n"
     ]
    }
   ],
   "source": []
  },
  {
   "cell_type": "markdown",
   "metadata": {},
   "source": [
    "# Compare bpj fig. 4 data to simulations\n",
    "Do the same stuff, that I did in EPJE fig. 10, but for finite $U_0$, i.e. Alexa488 in charged dextran.\n",
    "### Relate ion concentration to k\n",
    "The experiments were performed at zero added NaCl.\n",
    "In our bpj paper, we established, that the ion concentration due to the TRIS buffer, plus the  ionic strength of the mobile ions that enter the solution upon addition of 1 wt % dextran(+) and dextran(-) correspond to an ion concentration of 16 and 20 mM for dextran(-) and dextran(+), respectively.\n",
    "This ion concetration leads to a certain interaction range for our interaction potential.\n",
    "We can use eq. 9 in the EPJE paper (or eq. 8 in my thesis) to calculate it and we obtain (for b=23nm):"
   ]
  },
  {
   "cell_type": "code",
   "execution_count": 96,
   "metadata": {
    "collapsed": false
   },
   "outputs": [
    {
     "name": "stdout",
     "output_type": "stream",
     "text": [
      "0.10448360731 0.0934529793922\n"
     ]
    }
   ],
   "source": [
    "def Cion(k_rel,b_ex):\n",
    "    return 0.0924*10**3/((k_rel*b_ex)**2)\n",
    "\n",
    "def krelFromCion(Cion,b_ex):\n",
    "    return np.sqrt(0.0924*10**3/(Cion*b_ex**2))\n",
    "print(krelFromCion(16,23), krelFromCion(20,23))"
   ]
  },
  {
   "cell_type": "markdown",
   "metadata": {},
   "source": [
    "$$k_- = 0.1b \\quad \\text{and} k_+ = 0.09b$$"
   ]
  },
  {
   "cell_type": "code",
   "execution_count": 94,
   "metadata": {
    "collapsed": false
   },
   "outputs": [
    {
     "name": "stdout",
     "output_type": "stream",
     "text": [
      "133.4541926946067 93.01801406365745\n",
      "3.8662212415676693\n"
     ]
    }
   ],
   "source": [
    "# C_polymer FUNCTIONS\n",
    "\n",
    "#Experimental parameters Dextran And Alexa\n",
    "m_a=162*1.66\n",
    "a_ex=0.39\n",
    "p_ex=1.9\n",
    "# This function needs to be used, if I want to calculate the polymer Concentration from the mesh size b\n",
    "def CpolyFromb(b_ex):#!=C2(p_s) in gp_polymerConcentration OR SEE BELOW\n",
    "    n_mono = (3*b_ex/a_ex - 2 ) / b_ex**3\n",
    "    return n_mono * m_a\n",
    "\n",
    "# This functions needs to be used to calculate Cpoly from p - In the case of HI, where I have separate a and p\n",
    "def CpolyFrompHI(p_rel):#=C2HI(p_rel)=m_a*(p_rel/p_ex)**3  *  ( 3 * p_ex / (p_rel * a_ex) - 2  ) in gp_polymerConcentration\n",
    "    return m_a*(p_rel/p_ex)**3  *  ( 3 * p_ex / (p_rel * a_ex) - 2  )\n",
    "\n",
    "def CpolyFrompNoHI(p_s):\n",
    "    return (p_s**3 *m_a / (a_ex*(p_ex+a_ex)**3)) * (3 * (p_ex+a_ex)/p_s - 2 * a_ex)\n",
    "\n",
    "print(CpolyFrompHI(0.5), CpolyFrompNoHI(0.5))\n",
    "print(CpolyFromb(23))"
   ]
  },
  {
   "cell_type": "markdown",
   "metadata": {},
   "source": [
    "With our calculation method for the polymer mass concentration, we obtain something around\n",
    "$$\\text{print(CpolyFromb(23))} = C_{poly} = 3.9 g/l = 0.39 (w/v)\\%$$\n",
    "for the Alexa488 in dextran model parameters that we used in the ion concetration comparison to Jasons data.\n",
    "Jason used a polymer concentration of $1 (w/v)\\%$. I.e. there is a discrepancy. This can be attributed to our very approximative method of calculating the polymer concentration from $b$ and $a$, i.e. eq. (22) in EPJE.\n",
    "\\begin{align}\n",
    "    n_d &= \\left(\\frac{3b}{a}-2\\right) \\frac{1}{b^3} \\:=\\: \\frac{ C_\\mathrm{poly}}{m_a} \\: ,\\nonumber \\\\  \n",
    "   \\rightarrow \\; C_\\mathrm{poly} &= \\frac{m_a}{b^3} (\\frac{3b}{a}-2) \\; ,\\nonumber\\\\\n",
    "   \\rightarrow \\; C_\\mathrm{poly} &= m_a \\big(\\frac{p_{rel}}{p_{ex}}\\big)^3 (\\frac{3 p_{ex}}{p_{rel} a_{ex}}-2) \\;\n",
    "\\end{align}\n",
    "\n",
    "## Note: The next plots are with preliminary simulation data. \n",
    "We have not yet settled on correct values for $a$ and $p$\n",
    "#### $C_{ion}$ simulations:\n",
    "Here, I used a value of $$a = 0.8 nm \\quad p = 1.5 nm \\quad b \\approx 2.54 nm$$ at the current simulations.\n",
    "This data is not yet evaluated. It might lead to a too large relative diffusivity $D/D_0$.\n",
    "## IMPORTANT NOTE:\n",
    "To calculate the Cpoly with eq. 22 above, I do not need to put in the parameter $a/b$ that was used in the simulation.\n",
    "**HENCE, I CAN SIMULATE WITH a/p = 0.54, BUT CALCULATE THE CPOLYMER CONCENTRATION WITH a/p = .21**. With the latter, I obtain the \"correct\" polymer concentration with eq. 22. With the former, I can perform adequate simulations, where the water hydration layer is \"part\" of the polymer chain diameter."
   ]
  },
  {
   "cell_type": "code",
   "execution_count": 87,
   "metadata": {
    "collapsed": false
   },
   "outputs": [],
   "source": [
    "### Get the data ###\n",
    "\n",
    "# bpj data from excel file figure 4 data in reports/paper/jason\n",
    "# first row is Dextran20, which corresponds to uncharged dextran(-)\n",
    "# second row Dextran500, third row dextran(-), fourth dextran(+)\n",
    "bpj4data = np.asarray([\n",
    "    [1,0.925982463,0.831748342,0.798491522,0.753185472,0.695878232,0.670772084,0.630941941,0.599834134],\n",
    "    [1,0.883121743,0.807151296,0.709870951,0.661140049,0.635088743,0.580538736,0.543552391,0.505993318],\n",
    "    [1,0.878550339,0.837911679,0.775459276,0.733041935,0.669907265,0.664030792,0.628555042,0.583068535],\n",
    "    [1,0.074417946,0.108983059,0.146672764,0.143483107,0.153289683,0.152657178,0.164448086,0.17335864]\n",
    "])\n",
    "bpj4xvals = np.asarray([0,1,2,3,4,5,6,7,8])*10  # *10 to convert (w/v)% to g/l\n",
    "bpj4titles = ['Dextran20','Dextran500','Dextran(-)','Dextran(+)']\n",
    "\n",
    "uArr = [0,-7,4]\n",
    "#TODO\n",
    "aop=0.54# This if fixed here, for no HI\n",
    "datadir= \"/Users/jh/Documents/workspace-cpp/SPS/Release/sim_data/noreset/fitRPinv/dt0.0005/t200\"\n",
    "dataArr=[]\n",
    "for u  in uArr:\n",
    "    folder = datadir\n",
    "    data = []\n",
    "    for adir in os.listdir(folder):\n",
    "        a=float(adir[1:])\n",
    "        p=a/aop\n",
    "        pstr='%s' % float('%g' % p)\n",
    "        pstr=pstr.rstrip('0')\n",
    "        a=(float(a)/10.)                 # make p value p/b\n",
    "        p=p/10.\n",
    "        file=os.path.join(folder, adir,'d0/b10/p'+pstr+'/k1.000/u'+str(u)+'/InstantValues/linear_fit_parametersMSD.txt')\n",
    "        if os.path.isfile(file):\n",
    "            with open(file, 'r') as fitf:\n",
    "                m = (fitf.readline().split('m')[1]).split()[0]\n",
    "            data.append([float(p),float(m)]) #the [:-1] serves to cut the linebreak '\\n' from the string m.\n",
    "    dataArr.append(np.array(sorted(data)))\n",
    "u0data = (dataArr)"
   ]
  },
  {
   "cell_type": "code",
   "execution_count": 88,
   "metadata": {
    "collapsed": false
   },
   "outputs": [
    {
     "data": {
      "image/png": "[encoded data removed]",
      "text/plain": [
       "<matplotlib.figure.Figure at 0x108977da0>"
      ]
     },
     "metadata": {},
     "output_type": "display_data"
    }
   ],
   "source": [
    "for i,u0dat in enumerate(u0data):\n",
    "    ti = str(uArr[i])\n",
    "    p_rel = u0dat[:,0]\n",
    "    dd0 = u0dat[:,1]/6.\n",
    "    cpoly = CpolyFrompHI(p_rel)\n",
    "    plt.plot(cpoly,dd0,'o-',label=ti)\n",
    "for i,exdat in enumerate(bpjdata):\n",
    "    ti = bpj4titles[i]\n",
    "    dd0 = exdat[:]\n",
    "    cpoly = bpj4xvals\n",
    "    plt.plot(cpoly,dd0,'^',label=ti)\n",
    "plt.legend(loc=2, bbox_to_anchor=(1, 1),\n",
    "          ncol=1, fancybox=False, shadow=False)\n",
    "plt.xlim([0,90])\n",
    "plt.ylabel('$D/D_0$')\n",
    "plt.xlabel('$C_{poly}$ in g/l calculated with our formula')\n",
    "plt.show()"
   ]
  },
  {
   "cell_type": "markdown",
   "metadata": {},
   "source": [
    "### Correction to the result of eq. 22 in relation to the experimental value\n",
    "In the experiment in fig. 13 in our EPJE paper, Jason used an polymer concentration of 1(w/v)\\%.\n",
    "With our formula in eq. 22, we obtain 0.39(w/v)\\%.\n",
    "So, to correct the polymer concentrations calculated with eq. 22, we weight the calculated polymer concentration with the ratio of the experimental value, to the calculated value.\n",
    "The resulting data fits Jasons data much better (compare it to bpj fig. 4)"
   ]
  },
  {
   "cell_type": "code",
   "execution_count": 91,
   "metadata": {
    "collapsed": false
   },
   "outputs": [
    {
     "data": {
      "image/png": "[encoded data removed]",
      "text/plain": [
       "<matplotlib.figure.Figure at 0x10c5030b8>"
      ]
     },
     "metadata": {},
     "output_type": "display_data"
    }
   ],
   "source": [
    "# correct the ratio of the polymer concentration obtained with eq. 22 and the polymer concentration used by Jason\n",
    "cpolyCorrection = 10/CpolyFromb(23)\n",
    "for i,u0dat in enumerate(u0data):\n",
    "    u0 = str(uArr[i])\n",
    "    p_rel = u0dat[:,0]\n",
    "    dd0 = u0dat[:,1]/6.\n",
    "    cpoly = CpolyFrompHI(p_rel) * cpolyCorrection\n",
    "    plt.plot(cpoly,dd0,'o-',label=u0)\n",
    "for i,exdat in enumerate(bpjdata):\n",
    "    ti = bpj4titles[i]\n",
    "    dd0 = exdat[:]\n",
    "    cpoly = bpj4xvals\n",
    "    plt.plot(cpoly,dd0,'^',label=ti)\n",
    "plt.legend(loc=2, bbox_to_anchor=(1, 1),\n",
    "          ncol=1, fancybox=False, shadow=False)\n",
    "plt.xlim([0,90])\n",
    "plt.ylabel('$D/D_0$')\n",
    "plt.xlabel('$C_{poly}$ in g/l calculated with our formula')\n",
    "plt.show()"
   ]
  },
  {
   "cell_type": "markdown",
   "metadata": {},
   "source": [
    "# TODO find more suitable parameters a/b and p/b\n",
    "# EVALUATE DATA FROM SHELDON\n",
    "/Users/jh/Documents/Remote_PC/sheldon_scratch/HI/sim/Release/sim_data/noreset/fitRPinv/test/CG/ntry1/nrods1/steric\n",
    "\n",
    "I need to run simulations for this as soon as I found a good mesh size for the HI simulations in comparison to Jasons data.\n",
    "With the new data: I need to re-run the simulations with:\n",
    "- correct $U_0$ values, that lead to good agreement Cion data\n",
    "- correct $k$ values, calculated with krelFromCion(Cion,b_ex). Here, I need to use the\n",
    "- correct $b_ex$ value, that leads to good agreement in the Cion plot for the HI simulations\n",
    "Finally, using the new simulation data, I have to plot the data WITH and WITHOUT the appropriate Correction term cpolyCorrection\n"
   ]
  },
  {
   "cell_type": "markdown",
   "metadata": {},
   "source": [
    "_______\n",
    "______\n",
    "_____\n",
    "\n",
    "# Compare fig 2 to simulations\n",
    "According to Jason, PEG has a monomer diameter of about 0.4 to 0.5. *This already includes hydration* since it is the hydrodynamic radius of a PEG monomer.\n",
    "\n",
    "The problem is: I do not really know, whether our calculation in eq. (22) in the epje paper applies here. Since a) I do not know if the hydrodynamic radius a_ex is the same as the width of a PEG monomer along the polymer chain, and b) I do not know whether PEG form polymer bundles or something like that. In other words, I don't know if our assumptions about the tetrafunctional crosslinks for eq. (22) fits."
   ]
  },
  {
   "cell_type": "code",
   "execution_count": 93,
   "metadata": {
    "collapsed": false
   },
   "outputs": [
    {
     "name": "stdout",
     "output_type": "stream",
     "text": [
      "0.3\n"
     ]
    }
   ],
   "source": [
    "a_ex = 0.45\n",
    "\n",
    "# ALEXA: --> aop=0.3\n",
    "p_ex = 1.5\n",
    "\n",
    "# phycoerythrin\n",
    "# p_ex = 5.6 --> aop = 0.08\n",
    "\n"
   ]
  },
  {
   "cell_type": "code",
   "execution_count": null,
   "metadata": {
    "collapsed": true
   },
   "outputs": [],
   "source": []
  }
 ],
 "metadata": {
  "kernelspec": {
   "display_name": "Python 3",
   "language": "python",
   "name": "python3"
  },
  "language_info": {
   "codemirror_mode": {
    "name": "ipython",
    "version": 3
   },
   "file_extension": ".py",
   "mimetype": "text/x-python",
   "name": "python",
   "nbconvert_exporter": "python",
   "pygments_lexer": "ipython3",
   "version": "3.5.0"
  }
 },
 "nbformat": 4,
 "nbformat_minor": 0
}
