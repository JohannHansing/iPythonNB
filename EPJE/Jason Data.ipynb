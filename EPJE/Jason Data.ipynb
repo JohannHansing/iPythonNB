{
 "cells": [
  {
   "cell_type": "markdown",
   "metadata": {},
   "source": [
    "Try different particle size. According to Jason, Alexa488 has a diameter of $1.48$ nanometers.\n",
    "According to source Johansson1991 water has a diameter of 0.38 and dextran a diameter of 0.389. Hence we get\n",
    "$$a/p = (.38+.389)/1.48 = 0.52$$\n",
    "\n",
    "If we want to conserve our approximate mesh size $b=23$nm, with $(p+a) = 2.25 nm$, we need to set\n",
    "$$p/b = 2.25 / 23= 0.098$$"
   ]
  },
  {
   "cell_type": "markdown",
   "metadata": {},
   "source": [
    "## NOTE:\n",
    "I should use (a+p) = 2.25 to calculate physical value of b. This way, I can use a/p = 0.33 data in \n",
    "/Users/jh/Documents/Remote_PC/sheldon_scratch/HI/sim/Release/sim_data/noreset/fitRPinv/test/CG/ntry1/nrods1/steric/dt0.001/t200/a0.33\n",
    "and\n",
    "/Users/jh/Documents/Remote_PC/sheldon_scratch/HI/sim/Release/sim_data/noreset/fitRPinv/test/CG/ntry1/nrods1/steric/dt0.0005/t200/a0.33"
   ]
  },
  {
   "cell_type": "code",
   "execution_count": null,
   "metadata": {
    "collapsed": true
   },
   "outputs": [],
   "source": []
  }
 ],
 "metadata": {
  "kernelspec": {
   "display_name": "Python 3",
   "language": "python",
   "name": "python3"
  },
  "language_info": {
   "codemirror_mode": {
    "name": "ipython",
    "version": 3
   },
   "file_extension": ".py",
   "mimetype": "text/x-python",
   "name": "python",
   "nbconvert_exporter": "python",
   "pygments_lexer": "ipython3",
   "version": "3.5.0"
  }
 },
 "nbformat": 4,
 "nbformat_minor": 0
}
